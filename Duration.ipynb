{
 "cells": [
  {
   "cell_type": "markdown",
   "metadata": {},
   "source": [
    "## Mean duration for each class"
   ]
  },
  {
   "cell_type": "code",
   "execution_count": 4,
   "metadata": {},
   "outputs": [],
   "source": [
    "import pandas as pd\n",
    "from dataset import HARDataset"
   ]
  },
  {
   "cell_type": "code",
   "execution_count": 23,
   "metadata": {},
   "outputs": [],
   "source": [
    "from statistics import mean, median"
   ]
  },
  {
   "cell_type": "code",
   "execution_count": 5,
   "metadata": {},
   "outputs": [],
   "source": [
    "root = \"motionsense-dataset/A_DeviceMotion_data/A_DeviceMotion_data/\"\n",
    "dataset = HARDataset(root)"
   ]
  },
  {
   "cell_type": "code",
   "execution_count": 17,
   "metadata": {},
   "outputs": [],
   "source": [
    "length_classes = {\n",
    "    \"dws\": [],\n",
    "    \"ups\": [],\n",
    "    \"wlk\": [],\n",
    "    \"std\": [],\n",
    "    \"sit\": [],\n",
    "    \"jog\": []\n",
    "}\n",
    "for sample, cls in iter(dataset):\n",
    "    length_classes[cls].append(sample.shape[0])"
   ]
  },
  {
   "cell_type": "markdown",
   "metadata": {},
   "source": [
    "### Downstairs"
   ]
  },
  {
   "cell_type": "code",
   "execution_count": 36,
   "metadata": {},
   "outputs": [
    {
     "name": "stdout",
     "output_type": "stream",
     "text": [
      "Min dws: 439\n",
      "Max dws: 3436\n",
      "Mean dws: 1831.33\n",
      "Median dws: 1918.50\n"
     ]
    }
   ],
   "source": [
    "print(\"Min dws:\", min(length_classes['dws']))\n",
    "print(\"Max dws:\", max(length_classes['dws']))\n",
    "print(f\"Mean dws: {mean(length_classes['dws']):.2f}\")\n",
    "print(f\"Median dws: {median(length_classes['dws']):.2f}\")"
   ]
  },
  {
   "cell_type": "markdown",
   "metadata": {},
   "source": [
    "### Upstairs"
   ]
  },
  {
   "cell_type": "code",
   "execution_count": 40,
   "metadata": {},
   "outputs": [
    {
     "name": "stdout",
     "output_type": "stream",
     "text": [
      "Min ups: 377\n",
      "Max ups: 4086\n",
      "Mean ups: 2184.51\n",
      "Median ups: 2400.00\n"
     ]
    }
   ],
   "source": [
    "print(\"Min ups:\", min(length_classes['ups']))\n",
    "print(\"Max ups:\", max(length_classes['ups']))\n",
    "print(f\"Mean ups: {mean(length_classes['ups']):.2f}\")\n",
    "print(f\"Median ups: {median(length_classes['ups']):.2f}\")"
   ]
  },
  {
   "cell_type": "markdown",
   "metadata": {},
   "source": [
    "### Walk"
   ]
  },
  {
   "cell_type": "code",
   "execution_count": 41,
   "metadata": {},
   "outputs": [
    {
     "name": "stdout",
     "output_type": "stream",
     "text": [
      "Min wlk: 1333\n",
      "Max wlk: 8402\n",
      "Mean wlk: 4781.78\n",
      "Median wlk: 4927.00\n"
     ]
    }
   ],
   "source": [
    "print(\"Min wlk:\", min(length_classes['wlk']))\n",
    "print(\"Max wlk:\", max(length_classes['wlk']))\n",
    "print(f\"Mean wlk: {mean(length_classes['wlk']):.2f}\")\n",
    "print(f\"Median wlk: {median(length_classes['wlk']):.2f}\")"
   ]
  },
  {
   "cell_type": "markdown",
   "metadata": {},
   "source": [
    "### Standing"
   ]
  },
  {
   "cell_type": "code",
   "execution_count": 42,
   "metadata": {},
   "outputs": [
    {
     "name": "stdout",
     "output_type": "stream",
     "text": [
      "Min std: 2115\n",
      "Max std: 16424\n",
      "Mean std: 6383.90\n",
      "Median std: 6401.50\n"
     ]
    }
   ],
   "source": [
    "print(\"Min std:\", min(length_classes['std']))\n",
    "print(\"Max std:\", max(length_classes['std']))\n",
    "print(f\"Mean std: {mean(length_classes['std']):.2f}\")\n",
    "print(f\"Median std: {median(length_classes['std']):.2f}\")"
   ]
  },
  {
   "cell_type": "markdown",
   "metadata": {},
   "source": [
    "### Sitting"
   ]
  },
  {
   "cell_type": "code",
   "execution_count": 43,
   "metadata": {},
   "outputs": [
    {
     "name": "stdout",
     "output_type": "stream",
     "text": [
      "Min sit: 1894\n",
      "Max sit: 12757\n",
      "Mean sit: 7057.88\n",
      "Median sit: 7705.00\n"
     ]
    }
   ],
   "source": [
    "print(\"Min sit:\", min(length_classes['sit']))\n",
    "print(\"Max sit:\", max(length_classes['sit']))\n",
    "print(f\"Mean sit: {mean(length_classes['sit']):.2f}\")\n",
    "print(f\"Median sit: {median(length_classes['sit']):.2f}\")"
   ]
  },
  {
   "cell_type": "markdown",
   "metadata": {},
   "source": [
    "### Jogging"
   ]
  },
  {
   "cell_type": "code",
   "execution_count": 44,
   "metadata": {},
   "outputs": [
    {
     "name": "stdout",
     "output_type": "stream",
     "text": [
      "Min jog: 765\n",
      "Max jog: 5535\n",
      "Mean jog: 2796.48\n",
      "Median jog: 2397.50\n"
     ]
    }
   ],
   "source": [
    "print(\"Min jog:\", min(length_classes['jog']))\n",
    "print(\"Max jog:\", max(length_classes['jog']))\n",
    "print(f\"Mean jog: {mean(length_classes['jog']):.2f}\")\n",
    "print(f\"Median jog: {median(length_classes['jog']):.2f}\")"
   ]
  },
  {
   "cell_type": "code",
   "execution_count": null,
   "metadata": {},
   "outputs": [],
   "source": []
  }
 ],
 "metadata": {
  "kernelspec": {
   "display_name": "Python 3",
   "language": "python",
   "name": "python3"
  },
  "language_info": {
   "codemirror_mode": {
    "name": "ipython",
    "version": 3
   },
   "file_extension": ".py",
   "mimetype": "text/x-python",
   "name": "python",
   "nbconvert_exporter": "python",
   "pygments_lexer": "ipython3",
   "version": "3.7.5"
  }
 },
 "nbformat": 4,
 "nbformat_minor": 4
}
