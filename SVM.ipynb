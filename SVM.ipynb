{
 "cells": [
  {
   "cell_type": "code",
   "execution_count": 1,
   "metadata": {
    "pycharm": {
     "is_executing": false
    }
   },
   "outputs": [],
   "source": [
    "%matplotlib inline\n",
    "import matplotlib.pyplot as plt\n",
    "import seaborn as sns\n",
    "import sklearn\n",
    "import sklearn.preprocessing\n",
    "import sklearn.pipeline\n",
    "import sklearn.compose\n",
    "from sklearn.model_selection import train_test_split\n",
    "from sklearn.metrics import classification_report, plot_confusion_matrix\n",
    "from sklearn.decomposition import PCA\n",
    "import numpy as np"
   ]
  },
  {
   "cell_type": "code",
   "execution_count": 2,
   "metadata": {
    "pycharm": {
     "is_executing": false
    }
   },
   "outputs": [],
   "source": [
    "from dataset import HARDatasetCrops"
   ]
  },
  {
   "cell_type": "code",
   "execution_count": 5,
   "metadata": {},
   "outputs": [],
   "source": [
    "from transforms import FourierTransform"
   ]
  },
  {
   "cell_type": "markdown",
   "metadata": {},
   "source": [
    "## Data"
   ]
  },
  {
   "cell_type": "markdown",
   "metadata": {},
   "source": [
    "### Features"
   ]
  },
  {
   "cell_type": "markdown",
   "metadata": {},
   "source": [
    "In this case we will also use the privided metadata which consists on weight, height, age and gender of the subject."
   ]
  },
  {
   "cell_type": "code",
   "execution_count": 3,
   "metadata": {
    "pycharm": {
     "is_executing": false
    }
   },
   "outputs": [],
   "source": [
    "dataset = HARDatasetCrops('dataset/train', 256, 50, 50, metadata_file='dataset/data_subjects_info.csv')"
   ]
  },
  {
   "cell_type": "markdown",
   "metadata": {},
   "source": [
    "#### Metadata"
   ]
  },
  {
   "cell_type": "markdown",
   "metadata": {},
   "source": [
    "Metadata example"
   ]
  },
  {
   "cell_type": "code",
   "execution_count": 5,
   "metadata": {
    "pycharm": {
     "is_executing": false
    }
   },
   "outputs": [
    {
     "name": "stdout",
     "output_type": "stream",
     "text": [
      "Weight: 60\n",
      "Height: 167\n",
      "Age: 33\n",
      "Gender: 1\n"
     ]
    }
   ],
   "source": [
    "_, _, metadata = dataset[0]\n",
    "print(\"Weight: {}\\nHeight: {}\\nAge: {}\\nGender: {}\".format(*metadata))"
   ]
  },
  {
   "cell_type": "code",
   "execution_count": 6,
   "metadata": {},
   "outputs": [],
   "source": [
    "import pandas as pd\n",
    "metadata = pd.read_csv('motionsense-dataset/data_subjects_info.csv')\n",
    "del metadata['code']"
   ]
  },
  {
   "cell_type": "code",
   "execution_count": 7,
   "metadata": {},
   "outputs": [
    {
     "data": {
      "image/png": "[encoded data removed]",
      "text/plain": [
       "<Figure size 432x288 with 4 Axes>"
      ]
     },
     "metadata": {
      "needs_background": "light"
     },
     "output_type": "display_data"
    }
   ],
   "source": [
    "metadata.hist()\n",
    "plt.tight_layout()"
   ]
  },
  {
   "cell_type": "code",
   "execution_count": 8,
   "metadata": {
    "pycharm": {
     "is_executing": false
    }
   },
   "outputs": [
    {
     "name": "stdout",
     "output_type": "stream",
     "text": [
      "Dataset size: 4095\n",
      "Datapoints shape: (256, 12)\n"
     ]
    }
   ],
   "source": [
    "print('Dataset size:', len(dataset))\n",
    "\n",
    "sample, _, _ = dataset[0]\n",
    "print('Datapoints shape:', sample.shape)"
   ]
  },
  {
   "cell_type": "markdown",
   "metadata": {},
   "source": [
    "Our dataset is composed of 5205 datapoints, each have shape `(256, 12)` because we have 12 signals of 256 samples each."
   ]
  },
  {
   "cell_type": "markdown",
   "metadata": {},
   "source": [
    "For our base line model we will use the **user-acceleration magnitude**.\n",
    "The x,y,z components of the feature are stored on the last 3 columns, se we'll take those and get the magnitude/norm:"
   ]
  },
  {
   "cell_type": "code",
   "execution_count": 4,
   "metadata": {
    "pycharm": {
     "is_executing": false
    }
   },
   "outputs": [],
   "source": [
    "X = np.array([np.linalg.norm(sample[:,-3:], axis=1) for sample, _, _ in dataset])"
   ]
  },
  {
   "cell_type": "code",
   "execution_count": 5,
   "metadata": {
    "pycharm": {
     "is_executing": false
    }
   },
   "outputs": [
    {
     "data": {
      "text/plain": [
       "(4095, 256)"
      ]
     },
     "execution_count": 5,
     "metadata": {},
     "output_type": "execute_result"
    }
   ],
   "source": [
    "X.shape"
   ]
  },
  {
   "cell_type": "markdown",
   "metadata": {},
   "source": [
    "Now we \"only\" have 256 samples per datapoint.\n",
    "\n",
    "Instead of directly using its value at each timestep, we will apply the Fourier transform and use the frequency domain as our input space."
   ]
  },
  {
   "cell_type": "code",
   "execution_count": 11,
   "metadata": {
    "pycharm": {
     "is_executing": false
    }
   },
   "outputs": [
    {
     "name": "stdout",
     "output_type": "stream",
     "text": [
      "Shape: (4095, 256)\n"
     ]
    }
   ],
   "source": [
    "X_fft = np.fft.fft(X[:,:256], axis=1)\n",
    "\n",
    "print('Shape:', X_fft.shape)"
   ]
  },
  {
   "cell_type": "markdown",
   "metadata": {},
   "source": [
    "The output of the Fourier transform is complex, we can take the norm to use real numbers. This will make it simetric so we can use only the positive frequencies."
   ]
  },
  {
   "cell_type": "code",
   "execution_count": 12,
   "metadata": {
    "pycharm": {
     "is_executing": false
    }
   },
   "outputs": [
    {
     "name": "stdout",
     "output_type": "stream",
     "text": [
      "Shape: (4095, 131)\n"
     ]
    }
   ],
   "source": [
    "X_fft = np.abs(np.fft.rfft(X, axis=1))\n",
    "\n",
    "print('Shape:', X_fft.shape)"
   ]
  },
  {
   "cell_type": "code",
   "execution_count": 13,
   "metadata": {
    "pycharm": {
     "is_executing": false
    }
   },
   "outputs": [
    {
     "data": {
      "image/png": "[encoded data removed]",
      "text/plain": [
       "<Figure size 432x288 with 1 Axes>"
      ]
     },
     "metadata": {
      "needs_background": "light"
     },
     "output_type": "display_data"
    }
   ],
   "source": [
    "plt.plot(X_fft[7]);"
   ]
  },
  {
   "cell_type": "markdown",
   "metadata": {},
   "source": [
    "### Classes"
   ]
  },
  {
   "cell_type": "markdown",
   "metadata": {},
   "source": [
    "The classes are the following:"
   ]
  },
  {
   "cell_type": "code",
   "execution_count": 14,
   "metadata": {
    "pycharm": {
     "is_executing": false
    }
   },
   "outputs": [
    {
     "data": {
      "text/plain": [
       "{'dws': 'down-stairs',\n",
       " 'ups': 'up-stairs',\n",
       " 'wlk': 'walk',\n",
       " 'std': 'standing',\n",
       " 'sit': 'sitting',\n",
       " 'jog': 'jogging'}"
      ]
     },
     "execution_count": 14,
     "metadata": {},
     "output_type": "execute_result"
    }
   ],
   "source": [
    "dataset.CLASSES"
   ]
  },
  {
   "cell_type": "markdown",
   "metadata": {},
   "source": [
    "In order to fit a `sklearn` model we should encode each class with a unique integer:"
   ]
  },
  {
   "cell_type": "code",
   "execution_count": 6,
   "metadata": {
    "pycharm": {
     "is_executing": false
    }
   },
   "outputs": [],
   "source": [
    "label_encoder = sklearn.preprocessing.LabelEncoder()\n",
    "label_encoder.fit(list(dataset.CLASSES.keys()));"
   ]
  },
  {
   "cell_type": "code",
   "execution_count": 7,
   "metadata": {
    "pycharm": {
     "is_executing": false
    }
   },
   "outputs": [],
   "source": [
    "y = label_encoder.transform([cls for _, cls, _ in dataset])"
   ]
  },
  {
   "cell_type": "code",
   "execution_count": 17,
   "metadata": {
    "pycharm": {
     "is_executing": false
    }
   },
   "outputs": [
    {
     "data": {
      "image/png": "[encoded data removed]",
      "text/plain": [
       "<Figure size 432x288 with 1 Axes>"
      ]
     },
     "metadata": {
      "needs_background": "light"
     },
     "output_type": "display_data"
    }
   ],
   "source": [
    "sns.countplot(label_encoder.inverse_transform(y));"
   ]
  },
  {
   "cell_type": "markdown",
   "metadata": {},
   "source": [
    "#### Train-test splitting"
   ]
  },
  {
   "cell_type": "code",
   "execution_count": 8,
   "metadata": {
    "pycharm": {
     "is_executing": false
    }
   },
   "outputs": [],
   "source": [
    "X_train, X_test, y_train, y_test = train_test_split(X, y, test_size=0.2, random_state=1)"
   ]
  },
  {
   "cell_type": "code",
   "execution_count": 19,
   "metadata": {
    "pycharm": {
     "is_executing": false
    }
   },
   "outputs": [
    {
     "name": "stdout",
     "output_type": "stream",
     "text": [
      "Number of training examples: 3276\n",
      "Number of testing examples: 819\n"
     ]
    }
   ],
   "source": [
    "print('Number of training examples:', y_train.shape[0])\n",
    "print('Number of testing examples:', y_test.shape[0])"
   ]
  },
  {
   "cell_type": "markdown",
   "metadata": {},
   "source": [
    "#### PCA feature reduction"
   ]
  },
  {
   "cell_type": "code",
   "execution_count": 20,
   "metadata": {
    "pycharm": {
     "is_executing": false
    }
   },
   "outputs": [],
   "source": [
    "pca = sklearn.pipeline.make_pipeline(\n",
    "    FourierTransform(),\n",
    "    # sklearn.preprocessing.StandardScaler(),\n",
    "    PCA(n_components=32)\n",
    ")"
   ]
  },
  {
   "cell_type": "markdown",
   "metadata": {},
   "source": [
    "#### Join data with metadata"
   ]
  },
  {
   "cell_type": "code",
   "execution_count": 21,
   "metadata": {},
   "outputs": [],
   "source": [
    "features = sklearn.compose.ColumnTransformer([\n",
    "    ('fft_pca', pca, slice(0, -4)),\n",
    "    ('metadata', 'passthrough', slice(-4, X.shape[1]))\n",
    "])"
   ]
  },
  {
   "cell_type": "markdown",
   "metadata": {},
   "source": [
    "## Visualization"
   ]
  },
  {
   "cell_type": "code",
   "execution_count": 22,
   "metadata": {},
   "outputs": [],
   "source": [
    "X_feats = features.fit_transform(X_train)"
   ]
  },
  {
   "cell_type": "code",
   "execution_count": 23,
   "metadata": {},
   "outputs": [
    {
     "data": {
      "text/plain": [
       "(3276, 36)"
      ]
     },
     "execution_count": 23,
     "metadata": {},
     "output_type": "execute_result"
    }
   ],
   "source": [
    "X_feats.shape"
   ]
  },
  {
   "cell_type": "code",
   "execution_count": 24,
   "metadata": {
    "pycharm": {
     "is_executing": false
    }
   },
   "outputs": [
    {
     "data": {
      "image/png": "[encoded data removed]",
      "text/plain": [
       "<Figure size 432x288 with 1 Axes>"
      ]
     },
     "metadata": {
      "needs_background": "light"
     },
     "output_type": "display_data"
    }
   ],
   "source": [
    "sns.scatterplot(x=X_feats[:,0], y=X_feats[:,1], hue=label_encoder.inverse_transform(y_train));"
   ]
  },
  {
   "cell_type": "markdown",
   "metadata": {},
   "source": [
    "## Support vector machine"
   ]
  },
  {
   "cell_type": "markdown",
   "metadata": {},
   "source": [
    "### Gaussian kernel"
   ]
  },
  {
   "cell_type": "code",
   "execution_count": 25,
   "metadata": {
    "pycharm": {
     "is_executing": false
    }
   },
   "outputs": [],
   "source": [
    "import sklearn.svm"
   ]
  },
  {
   "cell_type": "markdown",
   "metadata": {},
   "source": [
    "#### Cross-validated parameter search"
   ]
  },
  {
   "cell_type": "code",
   "execution_count": 31,
   "metadata": {},
   "outputs": [],
   "source": [
    "from sklearn.model_selection import cross_val_score\n",
    "from sklearn.model_selection import ShuffleSplit"
   ]
  },
  {
   "cell_type": "code",
   "execution_count": 32,
   "metadata": {},
   "outputs": [
    {
     "data": {
      "text/plain": [
       "array([0.76422764, 0.81626016, 0.77398374, 0.77398374, 0.77886179])"
      ]
     },
     "execution_count": 32,
     "metadata": {},
     "output_type": "execute_result"
    }
   ],
   "source": [
    "cv = ShuffleSplit(n_splits=5, test_size=0.15, random_state=0)\n",
    "scores = cross_val_score(clf, X, y, cv=cv)\n",
    "scores"
   ]
  },
  {
   "cell_type": "code",
   "execution_count": 33,
   "metadata": {},
   "outputs": [
    {
     "name": "stdout",
     "output_type": "stream",
     "text": [
      "Accuracy: 0.78 (+/- 0.04)\n"
     ]
    }
   ],
   "source": [
    "print(\"Accuracy: %0.2f (+/- %0.2f)\" % (scores.mean(), scores.std())"
   ]
  },
  {
   "cell_type": "markdown",
   "metadata": {},
   "source": [
    "#### Hyper-parameter search"
   ]
  },
  {
   "cell_type": "code",
   "execution_count": 34,
   "metadata": {},
   "outputs": [],
   "source": [
    "from sklearn.model_selection import GridSearchCV"
   ]
  },
  {
   "cell_type": "code",
   "execution_count": 35,
   "metadata": {},
   "outputs": [],
   "source": [
    "clf = sklearn.pipeline.make_pipeline(\n",
    "    features,\n",
    "    sklearn.svm.SVC()\n",
    ")"
   ]
  },
  {
   "cell_type": "code",
   "execution_count": 36,
   "metadata": {},
   "outputs": [],
   "source": [
    "param_grid =  {\n",
    "    'svc__C': [1, 10, 100, 1000],\n",
    "    'svc__gamma': [0.001, 0.0001],\n",
    "    'svc__kernel': ['rbf']\n",
    "}"
   ]
  },
  {
   "cell_type": "code",
   "execution_count": 37,
   "metadata": {},
   "outputs": [
    {
     "data": {
      "text/plain": [
       "GridSearchCV(cv=ShuffleSplit(n_splits=5, random_state=0, test_size=0.15, train_size=None),\n",
       "             error_score=nan,\n",
       "             estimator=Pipeline(memory=None,\n",
       "                                steps=[('columntransformer',\n",
       "                                        ColumnTransformer(n_jobs=None,\n",
       "                                                          remainder='drop',\n",
       "                                                          sparse_threshold=0.3,\n",
       "                                                          transformer_weights=None,\n",
       "                                                          transformers=[('fft_pca',\n",
       "                                                                         Pipeline(memory=None,\n",
       "                                                                                  steps=[('fouriertransform',\n",
       "                                                                                          FourierTransform(windo...\n",
       "                                            decision_function_shape='ovr',\n",
       "                                            degree=3, gamma='scale',\n",
       "                                            kernel='rbf', max_iter=-1,\n",
       "                                            probability=False,\n",
       "                                            random_state=None, shrinking=True,\n",
       "                                            tol=0.001, verbose=False))],\n",
       "                                verbose=False),\n",
       "             iid='deprecated', n_jobs=None,\n",
       "             param_grid={'svc__C': [1, 10, 100, 1000],\n",
       "                         'svc__gamma': [0.001, 0.0001],\n",
       "                         'svc__kernel': ['rbf']},\n",
       "             pre_dispatch='2*n_jobs', refit=True, return_train_score=False,\n",
       "             scoring=None, verbose=0)"
      ]
     },
     "execution_count": 37,
     "metadata": {},
     "output_type": "execute_result"
    }
   ],
   "source": [
    "grid_search = GridSearchCV(clf, param_grid, cv=cv)\n",
    "\n",
    "grid_search.fit(X_train, y_train)"
   ]
  },
  {
   "cell_type": "code",
   "execution_count": 38,
   "metadata": {},
   "outputs": [
    {
     "data": {
      "text/plain": [
       "{'svc__C': 1000, 'svc__gamma': 0.001, 'svc__kernel': 'rbf'}"
      ]
     },
     "execution_count": 38,
     "metadata": {},
     "output_type": "execute_result"
    }
   ],
   "source": [
    "grid_search.best_params_"
   ]
  },
  {
   "cell_type": "code",
   "execution_count": 39,
   "metadata": {},
   "outputs": [
    {
     "data": {
      "text/plain": [
       "0.8918699186991871"
      ]
     },
     "execution_count": 39,
     "metadata": {},
     "output_type": "execute_result"
    }
   ],
   "source": [
    "grid_search.best_score_"
   ]
  },
  {
   "cell_type": "code",
   "execution_count": 40,
   "metadata": {},
   "outputs": [],
   "source": [
    "import pandas as pd"
   ]
  },
  {
   "cell_type": "code",
   "execution_count": 41,
   "metadata": {},
   "outputs": [],
   "source": [
    "cv_results = pd.DataFrame(grid_search.cv_results_)"
   ]
  },
  {
   "cell_type": "code",
   "execution_count": 42,
   "metadata": {},
   "outputs": [
    {
     "data": {
      "text/html": [
       "<div>\n",
       "<style scoped>\n",
       "    .dataframe tbody tr th:only-of-type {\n",
       "        vertical-align: middle;\n",
       "    }\n",
       "\n",
       "    .dataframe tbody tr th {\n",
       "        vertical-align: top;\n",
       "    }\n",
       "\n",
       "    .dataframe thead th {\n",
       "        text-align: right;\n",
       "    }\n",
       "</style>\n",
       "<table border=\"1\" class=\"dataframe\">\n",
       "  <thead>\n",
       "    <tr style=\"text-align: right;\">\n",
       "      <th></th>\n",
       "      <th>mean_fit_time</th>\n",
       "      <th>std_fit_time</th>\n",
       "      <th>mean_score_time</th>\n",
       "      <th>std_score_time</th>\n",
       "      <th>param_svc__C</th>\n",
       "      <th>param_svc__gamma</th>\n",
       "      <th>param_svc__kernel</th>\n",
       "      <th>params</th>\n",
       "      <th>split0_test_score</th>\n",
       "      <th>split1_test_score</th>\n",
       "      <th>split2_test_score</th>\n",
       "      <th>split3_test_score</th>\n",
       "      <th>split4_test_score</th>\n",
       "      <th>mean_test_score</th>\n",
       "      <th>std_test_score</th>\n",
       "      <th>rank_test_score</th>\n",
       "    </tr>\n",
       "  </thead>\n",
       "  <tbody>\n",
       "    <tr>\n",
       "      <th>0</th>\n",
       "      <td>0.437644</td>\n",
       "      <td>0.011339</td>\n",
       "      <td>0.056272</td>\n",
       "      <td>0.001839</td>\n",
       "      <td>1</td>\n",
       "      <td>0.001</td>\n",
       "      <td>rbf</td>\n",
       "      <td>{'svc__C': 1, 'svc__gamma': 0.001, 'svc__kerne...</td>\n",
       "      <td>0.865854</td>\n",
       "      <td>0.863821</td>\n",
       "      <td>0.841463</td>\n",
       "      <td>0.831301</td>\n",
       "      <td>0.869919</td>\n",
       "      <td>0.854472</td>\n",
       "      <td>0.015243</td>\n",
       "      <td>6</td>\n",
       "    </tr>\n",
       "    <tr>\n",
       "      <th>1</th>\n",
       "      <td>0.237951</td>\n",
       "      <td>0.006575</td>\n",
       "      <td>0.049597</td>\n",
       "      <td>0.003918</td>\n",
       "      <td>1</td>\n",
       "      <td>0.0001</td>\n",
       "      <td>rbf</td>\n",
       "      <td>{'svc__C': 1, 'svc__gamma': 0.0001, 'svc__kern...</td>\n",
       "      <td>0.835366</td>\n",
       "      <td>0.810976</td>\n",
       "      <td>0.796748</td>\n",
       "      <td>0.800813</td>\n",
       "      <td>0.853659</td>\n",
       "      <td>0.819512</td>\n",
       "      <td>0.021717</td>\n",
       "      <td>8</td>\n",
       "    </tr>\n",
       "    <tr>\n",
       "      <th>2</th>\n",
       "      <td>0.438975</td>\n",
       "      <td>0.009027</td>\n",
       "      <td>0.050415</td>\n",
       "      <td>0.001251</td>\n",
       "      <td>10</td>\n",
       "      <td>0.001</td>\n",
       "      <td>rbf</td>\n",
       "      <td>{'svc__C': 10, 'svc__gamma': 0.001, 'svc__kern...</td>\n",
       "      <td>0.873984</td>\n",
       "      <td>0.880081</td>\n",
       "      <td>0.847561</td>\n",
       "      <td>0.841463</td>\n",
       "      <td>0.896341</td>\n",
       "      <td>0.867886</td>\n",
       "      <td>0.020527</td>\n",
       "      <td>4</td>\n",
       "    </tr>\n",
       "    <tr>\n",
       "      <th>3</th>\n",
       "      <td>0.209585</td>\n",
       "      <td>0.001308</td>\n",
       "      <td>0.039273</td>\n",
       "      <td>0.001339</td>\n",
       "      <td>10</td>\n",
       "      <td>0.0001</td>\n",
       "      <td>rbf</td>\n",
       "      <td>{'svc__C': 10, 'svc__gamma': 0.0001, 'svc__ker...</td>\n",
       "      <td>0.857724</td>\n",
       "      <td>0.863821</td>\n",
       "      <td>0.821138</td>\n",
       "      <td>0.839431</td>\n",
       "      <td>0.878049</td>\n",
       "      <td>0.852033</td>\n",
       "      <td>0.019806</td>\n",
       "      <td>7</td>\n",
       "    </tr>\n",
       "    <tr>\n",
       "      <th>4</th>\n",
       "      <td>0.445280</td>\n",
       "      <td>0.009497</td>\n",
       "      <td>0.049106</td>\n",
       "      <td>0.003998</td>\n",
       "      <td>100</td>\n",
       "      <td>0.001</td>\n",
       "      <td>rbf</td>\n",
       "      <td>{'svc__C': 100, 'svc__gamma': 0.001, 'svc__ker...</td>\n",
       "      <td>0.876016</td>\n",
       "      <td>0.890244</td>\n",
       "      <td>0.876016</td>\n",
       "      <td>0.865854</td>\n",
       "      <td>0.900407</td>\n",
       "      <td>0.881707</td>\n",
       "      <td>0.012154</td>\n",
       "      <td>2</td>\n",
       "    </tr>\n",
       "    <tr>\n",
       "      <th>5</th>\n",
       "      <td>0.230815</td>\n",
       "      <td>0.006231</td>\n",
       "      <td>0.038427</td>\n",
       "      <td>0.001571</td>\n",
       "      <td>100</td>\n",
       "      <td>0.0001</td>\n",
       "      <td>rbf</td>\n",
       "      <td>{'svc__C': 100, 'svc__gamma': 0.0001, 'svc__ke...</td>\n",
       "      <td>0.876016</td>\n",
       "      <td>0.873984</td>\n",
       "      <td>0.851626</td>\n",
       "      <td>0.851626</td>\n",
       "      <td>0.898374</td>\n",
       "      <td>0.870325</td>\n",
       "      <td>0.017503</td>\n",
       "      <td>3</td>\n",
       "    </tr>\n",
       "    <tr>\n",
       "      <th>6</th>\n",
       "      <td>0.510115</td>\n",
       "      <td>0.013090</td>\n",
       "      <td>0.046039</td>\n",
       "      <td>0.002935</td>\n",
       "      <td>1000</td>\n",
       "      <td>0.001</td>\n",
       "      <td>rbf</td>\n",
       "      <td>{'svc__C': 1000, 'svc__gamma': 0.001, 'svc__ke...</td>\n",
       "      <td>0.880081</td>\n",
       "      <td>0.904472</td>\n",
       "      <td>0.880081</td>\n",
       "      <td>0.880081</td>\n",
       "      <td>0.914634</td>\n",
       "      <td>0.891870</td>\n",
       "      <td>0.014791</td>\n",
       "      <td>1</td>\n",
       "    </tr>\n",
       "    <tr>\n",
       "      <th>7</th>\n",
       "      <td>0.274430</td>\n",
       "      <td>0.007346</td>\n",
       "      <td>0.035283</td>\n",
       "      <td>0.001972</td>\n",
       "      <td>1000</td>\n",
       "      <td>0.0001</td>\n",
       "      <td>rbf</td>\n",
       "      <td>{'svc__C': 1000, 'svc__gamma': 0.0001, 'svc__k...</td>\n",
       "      <td>0.863821</td>\n",
       "      <td>0.865854</td>\n",
       "      <td>0.849593</td>\n",
       "      <td>0.857724</td>\n",
       "      <td>0.894309</td>\n",
       "      <td>0.866260</td>\n",
       "      <td>0.015123</td>\n",
       "      <td>5</td>\n",
       "    </tr>\n",
       "  </tbody>\n",
       "</table>\n",
       "</div>"
      ],
      "text/plain": [
       "   mean_fit_time  std_fit_time  mean_score_time  std_score_time param_svc__C  \\\n",
       "0       0.437644      0.011339         0.056272        0.001839            1   \n",
       "1       0.237951      0.006575         0.049597        0.003918            1   \n",
       "2       0.438975      0.009027         0.050415        0.001251           10   \n",
       "3       0.209585      0.001308         0.039273        0.001339           10   \n",
       "4       0.445280      0.009497         0.049106        0.003998          100   \n",
       "5       0.230815      0.006231         0.038427        0.001571          100   \n",
       "6       0.510115      0.013090         0.046039        0.002935         1000   \n",
       "7       0.274430      0.007346         0.035283        0.001972         1000   \n",
       "\n",
       "  param_svc__gamma param_svc__kernel  \\\n",
       "0            0.001               rbf   \n",
       "1           0.0001               rbf   \n",
       "2            0.001               rbf   \n",
       "3           0.0001               rbf   \n",
       "4            0.001               rbf   \n",
       "5           0.0001               rbf   \n",
       "6            0.001               rbf   \n",
       "7           0.0001               rbf   \n",
       "\n",
       "                                              params  split0_test_score  \\\n",
       "0  {'svc__C': 1, 'svc__gamma': 0.001, 'svc__kerne...           0.865854   \n",
       "1  {'svc__C': 1, 'svc__gamma': 0.0001, 'svc__kern...           0.835366   \n",
       "2  {'svc__C': 10, 'svc__gamma': 0.001, 'svc__kern...           0.873984   \n",
       "3  {'svc__C': 10, 'svc__gamma': 0.0001, 'svc__ker...           0.857724   \n",
       "4  {'svc__C': 100, 'svc__gamma': 0.001, 'svc__ker...           0.876016   \n",
       "5  {'svc__C': 100, 'svc__gamma': 0.0001, 'svc__ke...           0.876016   \n",
       "6  {'svc__C': 1000, 'svc__gamma': 0.001, 'svc__ke...           0.880081   \n",
       "7  {'svc__C': 1000, 'svc__gamma': 0.0001, 'svc__k...           0.863821   \n",
       "\n",
       "   split1_test_score  split2_test_score  split3_test_score  split4_test_score  \\\n",
       "0           0.863821           0.841463           0.831301           0.869919   \n",
       "1           0.810976           0.796748           0.800813           0.853659   \n",
       "2           0.880081           0.847561           0.841463           0.896341   \n",
       "3           0.863821           0.821138           0.839431           0.878049   \n",
       "4           0.890244           0.876016           0.865854           0.900407   \n",
       "5           0.873984           0.851626           0.851626           0.898374   \n",
       "6           0.904472           0.880081           0.880081           0.914634   \n",
       "7           0.865854           0.849593           0.857724           0.894309   \n",
       "\n",
       "   mean_test_score  std_test_score  rank_test_score  \n",
       "0         0.854472        0.015243                6  \n",
       "1         0.819512        0.021717                8  \n",
       "2         0.867886        0.020527                4  \n",
       "3         0.852033        0.019806                7  \n",
       "4         0.881707        0.012154                2  \n",
       "5         0.870325        0.017503                3  \n",
       "6         0.891870        0.014791                1  \n",
       "7         0.866260        0.015123                5  "
      ]
     },
     "execution_count": 42,
     "metadata": {},
     "output_type": "execute_result"
    }
   ],
   "source": [
    "cv_results"
   ]
  },
  {
   "cell_type": "markdown",
   "metadata": {},
   "source": [
    "### Best results"
   ]
  },
  {
   "cell_type": "code",
   "execution_count": 43,
   "metadata": {
    "pycharm": {
     "is_executing": false
    }
   },
   "outputs": [
    {
     "name": "stdout",
     "output_type": "stream",
     "text": [
      "              precision    recall  f1-score   support\n",
      "\n",
      "         dws       1.00      1.00      1.00       281\n",
      "         jog       1.00      1.00      1.00       308\n",
      "         sit       0.87      0.94      0.91       810\n",
      "         std       0.93      0.85      0.89       732\n",
      "         ups       1.00      1.00      1.00       345\n",
      "         wlk       1.00      1.00      1.00       800\n",
      "\n",
      "    accuracy                           0.95      3276\n",
      "   macro avg       0.97      0.96      0.97      3276\n",
      "weighted avg       0.95      0.95      0.95      3276\n",
      "\n"
     ]
    }
   ],
   "source": [
    "print(classification_report(y_train, grid_search.predict(X_train), target_names=label_encoder.classes_))"
   ]
  },
  {
   "cell_type": "code",
   "execution_count": 44,
   "metadata": {},
   "outputs": [
    {
     "data": {
      "text/plain": [
       "<sklearn.metrics._plot.confusion_matrix.ConfusionMatrixDisplay at 0x129f76dd0>"
      ]
     },
     "execution_count": 44,
     "metadata": {},
     "output_type": "execute_result"
    },
    {
     "data": {
      "image/png": "[encoded data removed]",
      "text/plain": [
       "<Figure size 432x288 with 2 Axes>"
      ]
     },
     "metadata": {
      "needs_background": "light"
     },
     "output_type": "display_data"
    }
   ],
   "source": [
    "plot_confusion_matrix(grid_search, X_train, y_train,\n",
    "                      display_labels=label_encoder.classes_,\n",
    "                      cmap=plt.cm.Blues,\n",
    "                      normalize=\"true\")"
   ]
  },
  {
   "cell_type": "code",
   "execution_count": 45,
   "metadata": {
    "pycharm": {
     "is_executing": false
    }
   },
   "outputs": [
    {
     "name": "stdout",
     "output_type": "stream",
     "text": [
      "              precision    recall  f1-score   support\n",
      "\n",
      "         dws       0.91      0.82      0.86        78\n",
      "         jog       0.90      1.00      0.95        76\n",
      "         sit       0.81      0.91      0.86       194\n",
      "         std       0.88      0.76      0.81       168\n",
      "         ups       0.88      0.90      0.89        91\n",
      "         wlk       0.97      0.96      0.96       212\n",
      "\n",
      "    accuracy                           0.89       819\n",
      "   macro avg       0.89      0.89      0.89       819\n",
      "weighted avg       0.89      0.89      0.89       819\n",
      "\n"
     ]
    }
   ],
   "source": [
    "print(classification_report(y_test, grid_search.predict(X_test), target_names=label_encoder.classes_))"
   ]
  },
  {
   "cell_type": "code",
   "execution_count": 46,
   "metadata": {},
   "outputs": [
    {
     "data": {
      "text/plain": [
       "<sklearn.metrics._plot.confusion_matrix.ConfusionMatrixDisplay at 0x129dacf90>"
      ]
     },
     "execution_count": 46,
     "metadata": {},
     "output_type": "execute_result"
    },
    {
     "data": {
      "image/png": "[encoded data removed]",
      "text/plain": [
       "<Figure size 432x288 with 2 Axes>"
      ]
     },
     "metadata": {
      "needs_background": "light"
     },
     "output_type": "display_data"
    }
   ],
   "source": [
    "plot_confusion_matrix(grid_search, X_test, y_test,\n",
    "                      display_labels=label_encoder.classes_,\n",
    "                      cmap=plt.cm.Blues,\n",
    "                      normalize=\"true\")"
   ]
  },
  {
   "cell_type": "markdown",
   "metadata": {},
   "source": [
    "### Global Alignment Kernel"
   ]
  },
  {
   "cell_type": "code",
   "execution_count": 9,
   "metadata": {
    "pycharm": {
     "is_executing": false
    }
   },
   "outputs": [],
   "source": [
    "import tslearn.svm"
   ]
  },
  {
   "cell_type": "code",
   "execution_count": 35,
   "metadata": {
    "pycharm": {
     "is_executing": false
    }
   },
   "outputs": [],
   "source": [
    "clf = tslearn.svm.TimeSeriesSVC()"
   ]
  },
  {
   "cell_type": "markdown",
   "metadata": {},
   "source": [
    "#### Cross-validates parameter search"
   ]
  },
  {
   "cell_type": "markdown",
   "metadata": {},
   "source": [
    "#### Hyper-parameter search"
   ]
  },
  {
   "cell_type": "code",
   "execution_count": 36,
   "metadata": {},
   "outputs": [],
   "source": [
    "param_grid =  {\n",
    "    'C': [1, 10, 100, 1000],\n",
    "    'gamma': [0.01, 0.001, 0.0001]\n",
    "}"
   ]
  },
  {
   "cell_type": "code",
   "execution_count": null,
   "metadata": {},
   "outputs": [
    {
     "name": "stderr",
     "output_type": "stream",
     "text": [
      "/home/sergio/PycharmProjects/HAR-timeseries-classification/venv/lib/python3.6/site-packages/tslearn-0.2.5-py3.6-linux-x86_64.egg/tslearn/utils.py:63: UserWarning: 2-Dimensional data passed. Assuming these are 2784 1-dimensional timeseries\n",
      "  '{} 1-dimensional timeseries'.format(X.shape[0]))\n"
     ]
    }
   ],
   "source": [
    "grid_search = GridSearchCV(clf, param_grid, cv=cv)\n",
    "\n",
    "grid_search.fit(X_train, y_train)"
   ]
  },
  {
   "cell_type": "code",
   "execution_count": null,
   "metadata": {},
   "outputs": [],
   "source": [
    "grid_search.best_params_"
   ]
  },
  {
   "cell_type": "code",
   "execution_count": null,
   "metadata": {},
   "outputs": [],
   "source": [
    "grid_search.best_score_"
   ]
  },
  {
   "cell_type": "code",
   "execution_count": null,
   "metadata": {},
   "outputs": [],
   "source": [
    "import pandas as pd"
   ]
  },
  {
   "cell_type": "code",
   "execution_count": null,
   "metadata": {},
   "outputs": [],
   "source": [
    "cv_results = pd.DataFrame(grid_search.cv_results_)"
   ]
  },
  {
   "cell_type": "code",
   "execution_count": null,
   "metadata": {},
   "outputs": [],
   "source": [
    "cv_results"
   ]
  },
  {
   "cell_type": "markdown",
   "metadata": {},
   "source": [
    "### Best results"
   ]
  },
  {
   "cell_type": "code",
   "execution_count": 31,
   "metadata": {
    "pycharm": {
     "is_executing": false
    }
   },
   "outputs": [
    {
     "name": "stdout",
     "output_type": "stream",
     "text": [
      "              precision    recall  f1-score   support\n",
      "\n",
      "         dws       1.00      0.95      0.98       288\n",
      "         jog       1.00      1.00      1.00       322\n",
      "         sit       0.68      0.86      0.76       784\n",
      "         std       0.78      0.56      0.66       716\n",
      "         ups       0.92      0.99      0.95       359\n",
      "         wlk       0.99      0.98      0.98       807\n",
      "\n",
      "    accuracy                           0.86      3276\n",
      "   macro avg       0.90      0.89      0.89      3276\n",
      "weighted avg       0.87      0.86      0.86      3276\n",
      "\n"
     ]
    }
   ],
   "source": [
    "print(classification_report(y_train, grid_search.predict(X_train), target_names=label_encoder.classes_))"
   ]
  },
  {
   "cell_type": "code",
   "execution_count": 32,
   "metadata": {},
   "outputs": [
    {
     "data": {
      "text/plain": [
       "<sklearn.metrics._plot.confusion_matrix.ConfusionMatrixDisplay at 0x7fd16a3d1f28>"
      ]
     },
     "execution_count": 32,
     "metadata": {},
     "output_type": "execute_result"
    },
    {
     "data": {
      "image/png": "[encoded data removed]",
      "text/plain": [
       "<Figure size 432x288 with 2 Axes>"
      ]
     },
     "metadata": {
      "needs_background": "light"
     },
     "output_type": "display_data"
    }
   ],
   "source": [
    "plot_confusion_matrix(grid_search, X_train, y_train,\n",
    "                      display_labels=label_encoder.classes_,\n",
    "                      cmap=plt.cm.Blues,\n",
    "                      normalize=\"true\")"
   ]
  },
  {
   "cell_type": "code",
   "execution_count": 33,
   "metadata": {
    "pycharm": {
     "is_executing": false
    }
   },
   "outputs": [
    {
     "name": "stdout",
     "output_type": "stream",
     "text": [
      "              precision    recall  f1-score   support\n",
      "\n",
      "         dws       0.69      0.48      0.57        71\n",
      "         jog       0.88      0.95      0.91        62\n",
      "         sit       0.67      0.90      0.77       220\n",
      "         std       0.79      0.48      0.59       184\n",
      "         ups       0.60      0.69      0.64        77\n",
      "         wlk       0.84      0.86      0.85       205\n",
      "\n",
      "    accuracy                           0.74       819\n",
      "   macro avg       0.75      0.73      0.72       819\n",
      "weighted avg       0.75      0.74      0.73       819\n",
      "\n"
     ]
    }
   ],
   "source": [
    "print(classification_report(y_test, grid_search.predict(X_test), target_names=label_encoder.classes_))"
   ]
  },
  {
   "cell_type": "code",
   "execution_count": 34,
   "metadata": {},
   "outputs": [
    {
     "data": {
      "text/plain": [
       "<sklearn.metrics._plot.confusion_matrix.ConfusionMatrixDisplay at 0x7fd16a210f28>"
      ]
     },
     "execution_count": 34,
     "metadata": {},
     "output_type": "execute_result"
    },
    {
     "data": {
      "image/png": "[encoded data removed]",
      "text/plain": [
       "<Figure size 432x288 with 2 Axes>"
      ]
     },
     "metadata": {
      "needs_background": "light"
     },
     "output_type": "display_data"
    }
   ],
   "source": [
    "plot_confusion_matrix(grid_search, X_test, y_test,\n",
    "                      display_labels=label_encoder.classes_,\n",
    "                      cmap=plt.cm.Blues,\n",
    "                      normalize=\"true\")"
   ]
  }
 ],
 "metadata": {
  "kernelspec": {
   "display_name": "Python 3",
   "language": "python",
   "name": "python3"
  },
  "language_info": {
   "codemirror_mode": {
    "name": "ipython",
    "version": 3
   },
   "file_extension": ".py",
   "mimetype": "text/x-python",
   "name": "python",
   "nbconvert_exporter": "python",
   "pygments_lexer": "ipython3",
   "version": "3.6.8"
  },
  "pycharm": {
   "stem_cell": {
    "cell_type": "raw",
    "metadata": {
     "collapsed": false
    },
    "source": []
   }
  }
 },
 "nbformat": 4,
 "nbformat_minor": 4
}
