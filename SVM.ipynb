{
 "cells": [
  {
   "cell_type": "code",
   "execution_count": 1,
   "metadata": {
    "pycharm": {
     "is_executing": false
    }
   },
   "outputs": [],
   "source": [
    "%matplotlib inline\n",
    "import matplotlib.pyplot as plt\n",
    "import seaborn as sns\n",
    "import sklearn\n",
    "import sklearn.preprocessing\n",
    "import sklearn.pipeline\n",
    "import sklearn.compose\n",
    "from sklearn.model_selection import train_test_split\n",
    "from sklearn.metrics import classification_report, plot_confusion_matrix\n",
    "from sklearn.decomposition import PCA\n",
    "import numpy as np"
   ]
  },
  {
   "cell_type": "code",
   "execution_count": 2,
   "metadata": {
    "pycharm": {
     "is_executing": false
    }
   },
   "outputs": [],
   "source": [
    "from dataset import HARDatasetCrops"
   ]
  },
  {
   "cell_type": "code",
   "execution_count": 3,
   "metadata": {},
   "outputs": [],
   "source": [
    "from transforms import FourierTransform"
   ]
  },
  {
   "cell_type": "markdown",
   "metadata": {},
   "source": [
    "## Data"
   ]
  },
  {
   "cell_type": "markdown",
   "metadata": {},
   "source": [
    "### Features"
   ]
  },
  {
   "cell_type": "markdown",
   "metadata": {},
   "source": [
    "In this case we will also use the privided metadata which consists on weight, height, age and gender of the subject."
   ]
  },
  {
   "cell_type": "code",
   "execution_count": 4,
   "metadata": {
    "pycharm": {
     "is_executing": false
    }
   },
   "outputs": [],
   "source": [
    "dataset = HARDatasetCrops('motionsense-dataset/train', 256, 50, 50, metadata_file='motionsense-dataset/data_subjects_info.csv')"
   ]
  },
  {
   "cell_type": "markdown",
   "metadata": {},
   "source": [
    "#### Metadata"
   ]
  },
  {
   "cell_type": "markdown",
   "metadata": {},
   "source": [
    "Metadata example"
   ]
  },
  {
   "cell_type": "code",
   "execution_count": 5,
   "metadata": {
    "pycharm": {
     "is_executing": false
    }
   },
   "outputs": [
    {
     "name": "stdout",
     "output_type": "stream",
     "text": [
      "Weight: 60\n",
      "Height: 167\n",
      "Age: 33\n",
      "Gender: 1\n"
     ]
    }
   ],
   "source": [
    "_, _, metadata = dataset[0]\n",
    "print(\"Weight: {}\\nHeight: {}\\nAge: {}\\nGender: {}\".format(*metadata))"
   ]
  },
  {
   "cell_type": "code",
   "execution_count": 6,
   "metadata": {},
   "outputs": [],
   "source": [
    "import pandas as pd\n",
    "metadata = pd.read_csv('motionsense-dataset/data_subjects_info.csv')\n",
    "del metadata['code']"
   ]
  },
  {
   "cell_type": "code",
   "execution_count": 7,
   "metadata": {},
   "outputs": [
    {
     "data": {
      "image/png": "[encoded data removed]",
      "text/plain": [
       "<Figure size 432x288 with 4 Axes>"
      ]
     },
     "metadata": {
      "needs_background": "light"
     },
     "output_type": "display_data"
    }
   ],
   "source": [
    "metadata.hist()\n",
    "plt.tight_layout()"
   ]
  },
  {
   "cell_type": "code",
   "execution_count": 8,
   "metadata": {
    "pycharm": {
     "is_executing": false
    }
   },
   "outputs": [
    {
     "name": "stdout",
     "output_type": "stream",
     "text": [
      "Dataset size: 4095\n",
      "Datapoints shape: (256, 12)\n"
     ]
    }
   ],
   "source": [
    "print('Dataset size:', len(dataset))\n",
    "\n",
    "sample, _, _ = dataset[0]\n",
    "print('Datapoints shape:', sample.shape)"
   ]
  },
  {
   "cell_type": "markdown",
   "metadata": {},
   "source": [
    "Our dataset is composed of 5205 datapoints, each have shape `(256, 12)` because we have 12 signals of 256 samples each."
   ]
  },
  {
   "cell_type": "markdown",
   "metadata": {},
   "source": [
    "For our base line model we will use the **user-acceleration magnitude**.\n",
    "The x,y,z components of the feature are stored on the last 3 columns, se we'll take those and get the magnitude/norm:"
   ]
  },
  {
   "cell_type": "code",
   "execution_count": 9,
   "metadata": {
    "pycharm": {
     "is_executing": false
    }
   },
   "outputs": [],
   "source": [
    "X = np.array([np.hstack([np.linalg.norm(sample[:,-3:], axis=1)] + metadata) for sample, _, metadata in dataset])"
   ]
  },
  {
   "cell_type": "code",
   "execution_count": 10,
   "metadata": {
    "pycharm": {
     "is_executing": false
    }
   },
   "outputs": [
    {
     "data": {
      "text/plain": [
       "(4095, 260)"
      ]
     },
     "execution_count": 10,
     "metadata": {},
     "output_type": "execute_result"
    }
   ],
   "source": [
    "X.shape"
   ]
  },
  {
   "cell_type": "markdown",
   "metadata": {},
   "source": [
    "Now we \"only\" have 256 samples per datapoint.\n",
    "\n",
    "Instead of directly using its value at each timestep, we will apply the Fourier transform and use the frequency domain as our input space."
   ]
  },
  {
   "cell_type": "code",
   "execution_count": 11,
   "metadata": {
    "pycharm": {
     "is_executing": false
    }
   },
   "outputs": [
    {
     "name": "stdout",
     "output_type": "stream",
     "text": [
      "Shape: (4095, 256)\n"
     ]
    }
   ],
   "source": [
    "X_fft = np.fft.fft(X[:,:256], axis=1)\n",
    "\n",
    "print('Shape:', X_fft.shape)"
   ]
  },
  {
   "cell_type": "markdown",
   "metadata": {},
   "source": [
    "The output of the Fourier transform is complex, we can take the norm to use real numbers. This will make it simetric so we can use only the positive frequencies."
   ]
  },
  {
   "cell_type": "code",
   "execution_count": 12,
   "metadata": {
    "pycharm": {
     "is_executing": false
    }
   },
   "outputs": [
    {
     "name": "stdout",
     "output_type": "stream",
     "text": [
      "Shape: (4095, 131)\n"
     ]
    }
   ],
   "source": [
    "X_fft = np.abs(np.fft.rfft(X, axis=1))\n",
    "\n",
    "print('Shape:', X_fft.shape)"
   ]
  },
  {
   "cell_type": "code",
   "execution_count": 13,
   "metadata": {
    "pycharm": {
     "is_executing": false
    }
   },
   "outputs": [
    {
     "data": {
      "image/png": "[encoded data removed]",
      "text/plain": [
       "<Figure size 432x288 with 1 Axes>"
      ]
     },
     "metadata": {
      "needs_background": "light"
     },
     "output_type": "display_data"
    }
   ],
   "source": [
    "plt.plot(X_fft[7]);"
   ]
  },
  {
   "cell_type": "markdown",
   "metadata": {},
   "source": [
    "### Classes"
   ]
  },
  {
   "cell_type": "markdown",
   "metadata": {},
   "source": [
    "The classes are the following:"
   ]
  },
  {
   "cell_type": "code",
   "execution_count": 14,
   "metadata": {
    "pycharm": {
     "is_executing": false
    }
   },
   "outputs": [
    {
     "data": {
      "text/plain": [
       "{'dws': 'down-stairs',\n",
       " 'ups': 'up-stairs',\n",
       " 'wlk': 'walk',\n",
       " 'std': 'standing',\n",
       " 'sit': 'sitting',\n",
       " 'jog': 'jogging'}"
      ]
     },
     "execution_count": 14,
     "metadata": {},
     "output_type": "execute_result"
    }
   ],
   "source": [
    "dataset.CLASSES"
   ]
  },
  {
   "cell_type": "markdown",
   "metadata": {},
   "source": [
    "In order to fit a `sklearn` model we should encode each class with a unique integer:"
   ]
  },
  {
   "cell_type": "code",
   "execution_count": 15,
   "metadata": {
    "pycharm": {
     "is_executing": false
    }
   },
   "outputs": [],
   "source": [
    "label_encoder = sklearn.preprocessing.LabelEncoder()\n",
    "label_encoder.fit(list(dataset.CLASSES.keys()));"
   ]
  },
  {
   "cell_type": "code",
   "execution_count": 16,
   "metadata": {
    "pycharm": {
     "is_executing": false
    }
   },
   "outputs": [],
   "source": [
    "y = label_encoder.transform([cls for _, cls, _ in dataset])"
   ]
  },
  {
   "cell_type": "code",
   "execution_count": 17,
   "metadata": {
    "pycharm": {
     "is_executing": false
    }
   },
   "outputs": [
    {
     "data": {
      "image/png": "[encoded data removed]",
      "text/plain": [
       "<Figure size 432x288 with 1 Axes>"
      ]
     },
     "metadata": {
      "needs_background": "light"
     },
     "output_type": "display_data"
    }
   ],
   "source": [
    "sns.countplot(label_encoder.inverse_transform(y));"
   ]
  },
  {
   "cell_type": "markdown",
   "metadata": {},
   "source": [
    "#### Train-test splitting"
   ]
  },
  {
   "cell_type": "code",
   "execution_count": 18,
   "metadata": {
    "pycharm": {
     "is_executing": false
    }
   },
   "outputs": [],
   "source": [
    "X_train, X_test, y_train, y_test = train_test_split(X, y, test_size=0.2, random_state=1)"
   ]
  },
  {
   "cell_type": "code",
   "execution_count": 19,
   "metadata": {
    "pycharm": {
     "is_executing": false
    }
   },
   "outputs": [
    {
     "name": "stdout",
     "output_type": "stream",
     "text": [
      "Number of training examples: 3276\n",
      "Number of testing examples: 819\n"
     ]
    }
   ],
   "source": [
    "print('Number of training examples:', y_train.shape[0])\n",
    "print('Number of testing examples:', y_test.shape[0])"
   ]
  },
  {
   "cell_type": "markdown",
   "metadata": {},
   "source": [
    "#### PCA feature reduction"
   ]
  },
  {
   "cell_type": "code",
   "execution_count": 20,
   "metadata": {
    "pycharm": {
     "is_executing": false
    }
   },
   "outputs": [],
   "source": [
    "pca = sklearn.pipeline.make_pipeline(\n",
    "    FourierTransform(),\n",
    "    # sklearn.preprocessing.StandardScaler(),\n",
    "    PCA(n_components=32)\n",
    ")"
   ]
  },
  {
   "cell_type": "markdown",
   "metadata": {},
   "source": [
    "#### Join data with metadata"
   ]
  },
  {
   "cell_type": "code",
   "execution_count": 21,
   "metadata": {},
   "outputs": [],
   "source": [
    "features = sklearn.compose.ColumnTransformer([\n",
    "    ('fft_pca', pca, slice(0, -4)),\n",
    "    ('metadata', 'passthrough', slice(-4, X.shape[1]))\n",
    "])"
   ]
  },
  {
   "cell_type": "markdown",
   "metadata": {},
   "source": [
    "## Visualization"
   ]
  },
  {
   "cell_type": "code",
   "execution_count": 22,
   "metadata": {},
   "outputs": [],
   "source": [
    "X_feats = features.fit_transform(X_train)"
   ]
  },
  {
   "cell_type": "code",
   "execution_count": 23,
   "metadata": {},
   "outputs": [
    {
     "data": {
      "text/plain": [
       "(3276, 36)"
      ]
     },
     "execution_count": 23,
     "metadata": {},
     "output_type": "execute_result"
    }
   ],
   "source": [
    "X_feats.shape"
   ]
  },
  {
   "cell_type": "code",
   "execution_count": 24,
   "metadata": {
    "pycharm": {
     "is_executing": false
    }
   },
   "outputs": [
    {
     "data": {
      "image/png": "[encoded data removed]",
      "text/plain": [
       "<Figure size 432x288 with 1 Axes>"
      ]
     },
     "metadata": {
      "needs_background": "light"
     },
     "output_type": "display_data"
    }
   ],
   "source": [
    "sns.scatterplot(x=X_feats[:,0], y=X_feats[:,1], hue=label_encoder.inverse_transform(y_train));"
   ]
  },
  {
   "cell_type": "markdown",
   "metadata": {},
   "source": [
    "The classes seem VERY overlapped (except for the jog class), so the results are not promising."
   ]
  },
  {
   "cell_type": "markdown",
   "metadata": {},
   "source": [
    "## Support vector machine"
   ]
  },
  {
   "cell_type": "code",
   "execution_count": 25,
   "metadata": {
    "pycharm": {
     "is_executing": false
    }
   },
   "outputs": [],
   "source": [
    "import sklearn.svm"
   ]
  },
  {
   "cell_type": "code",
   "execution_count": 26,
   "metadata": {
    "pycharm": {
     "is_executing": false
    }
   },
   "outputs": [
    {
     "data": {
      "text/plain": [
       "Pipeline(memory=None,\n",
       "         steps=[('columntransformer',\n",
       "                 ColumnTransformer(n_jobs=None, remainder='drop',\n",
       "                                   sparse_threshold=0.3,\n",
       "                                   transformer_weights=None,\n",
       "                                   transformers=[('fft_pca',\n",
       "                                                  Pipeline(memory=None,\n",
       "                                                           steps=[('fouriertransform',\n",
       "                                                                   FourierTransform(window=None)),\n",
       "                                                                  ('pca',\n",
       "                                                                   PCA(copy=True,\n",
       "                                                                       iterated_power='auto',\n",
       "                                                                       n_components=32,\n",
       "                                                                       random_state=None,\n",
       "                                                                       svd_solver='auto',\n",
       "                                                                       tol=0.0,\n",
       "                                                                       w...lse))],\n",
       "                                                           verbose=False),\n",
       "                                                  slice(0, -4, None)),\n",
       "                                                 ('metadata', 'passthrough',\n",
       "                                                  slice(-4, 260, None))],\n",
       "                                   verbose=False)),\n",
       "                ('svc',\n",
       "                 SVC(C=1.0, break_ties=False, cache_size=200, class_weight=None,\n",
       "                     coef0=0.0, decision_function_shape='ovr', degree=3,\n",
       "                     gamma='scale', kernel='rbf', max_iter=-1,\n",
       "                     probability=False, random_state=None, shrinking=True,\n",
       "                     tol=0.001, verbose=False))],\n",
       "         verbose=False)"
      ]
     },
     "execution_count": 26,
     "metadata": {},
     "output_type": "execute_result"
    }
   ],
   "source": [
    "clf = sklearn.pipeline.make_pipeline(\n",
    "    features,\n",
    "    sklearn.svm.SVC()\n",
    ")\n",
    "clf.fit(X_train, y_train)"
   ]
  },
  {
   "cell_type": "code",
   "execution_count": 27,
   "metadata": {
    "pycharm": {
     "is_executing": false
    }
   },
   "outputs": [
    {
     "name": "stdout",
     "output_type": "stream",
     "text": [
      "              precision    recall  f1-score   support\n",
      "\n",
      "         dws       0.84      0.76      0.80       281\n",
      "         jog       0.99      0.99      0.99       308\n",
      "         sit       0.62      0.96      0.75       810\n",
      "         std       0.89      0.34      0.49       732\n",
      "         ups       0.78      0.78      0.78       345\n",
      "         wlk       0.94      0.97      0.95       800\n",
      "\n",
      "    accuracy                           0.79      3276\n",
      "   macro avg       0.84      0.80      0.79      3276\n",
      "weighted avg       0.83      0.79      0.77      3276\n",
      "\n"
     ]
    }
   ],
   "source": [
    "print(classification_report(y_train, clf.predict(X_train), target_names=label_encoder.classes_))"
   ]
  },
  {
   "cell_type": "code",
   "execution_count": 28,
   "metadata": {},
   "outputs": [
    {
     "data": {
      "text/plain": [
       "<sklearn.metrics._plot.confusion_matrix.ConfusionMatrixDisplay at 0x118cff0d0>"
      ]
     },
     "execution_count": 28,
     "metadata": {},
     "output_type": "execute_result"
    },
    {
     "data": {
      "image/png": "[encoded data removed]",
      "text/plain": [
       "<Figure size 432x288 with 2 Axes>"
      ]
     },
     "metadata": {
      "needs_background": "light"
     },
     "output_type": "display_data"
    }
   ],
   "source": [
    "plot_confusion_matrix(clf, X_train, y_train,\n",
    "                      display_labels=label_encoder.classes_,\n",
    "                      cmap=plt.cm.Blues,\n",
    "                      normalize=\"true\")"
   ]
  },
  {
   "cell_type": "code",
   "execution_count": 29,
   "metadata": {
    "pycharm": {
     "is_executing": false
    }
   },
   "outputs": [
    {
     "name": "stdout",
     "output_type": "stream",
     "text": [
      "              precision    recall  f1-score   support\n",
      "\n",
      "         dws       0.85      0.64      0.73        78\n",
      "         jog       0.99      1.00      0.99        76\n",
      "         sit       0.61      0.96      0.75       194\n",
      "         std       0.86      0.30      0.45       168\n",
      "         ups       0.72      0.82      0.77        91\n",
      "         wlk       0.94      0.96      0.95       212\n",
      "\n",
      "    accuracy                           0.78       819\n",
      "   macro avg       0.83      0.78      0.77       819\n",
      "weighted avg       0.82      0.78      0.76       819\n",
      "\n"
     ]
    }
   ],
   "source": [
    "print(classification_report(y_test, clf.predict(X_test), target_names=label_encoder.classes_))"
   ]
  },
  {
   "cell_type": "code",
   "execution_count": 30,
   "metadata": {},
   "outputs": [
    {
     "data": {
      "text/plain": [
       "<sklearn.metrics._plot.confusion_matrix.ConfusionMatrixDisplay at 0x118e77820>"
      ]
     },
     "execution_count": 30,
     "metadata": {},
     "output_type": "execute_result"
    },
    {
     "data": {
      "image/png": "[encoded data removed]",
      "text/plain": [
       "<Figure size 432x288 with 2 Axes>"
      ]
     },
     "metadata": {
      "needs_background": "light"
     },
     "output_type": "display_data"
    }
   ],
   "source": [
    "plot_confusion_matrix(clf, X_test, y_test,\n",
    "                      display_labels=label_encoder.classes_,\n",
    "                      cmap=plt.cm.Blues,\n",
    "                      normalize=\"true\")"
   ]
  },
  {
   "cell_type": "markdown",
   "metadata": {},
   "source": [
    "## Cross-validates parameter search"
   ]
  },
  {
   "cell_type": "code",
   "execution_count": 31,
   "metadata": {},
   "outputs": [],
   "source": [
    "from sklearn.model_selection import cross_val_score\n",
    "from sklearn.model_selection import ShuffleSplit"
   ]
  },
  {
   "cell_type": "code",
   "execution_count": 32,
   "metadata": {},
   "outputs": [
    {
     "data": {
      "text/plain": [
       "array([0.76585366, 0.81788618, 0.77560976, 0.77398374, 0.77886179])"
      ]
     },
     "execution_count": 32,
     "metadata": {},
     "output_type": "execute_result"
    }
   ],
   "source": [
    "cv = ShuffleSplit(n_splits=5, test_size=0.15, random_state=0)\n",
    "scores = cross_val_score(clf, X, y, cv=cv)\n",
    "scores"
   ]
  },
  {
   "cell_type": "code",
   "execution_count": 33,
   "metadata": {},
   "outputs": [
    {
     "name": "stdout",
     "output_type": "stream",
     "text": [
      "Accuracy: 0.78 (+/- 0.04)\n"
     ]
    }
   ],
   "source": [
    "print(\"Accuracy: %0.2f (+/- %0.2f)\" % (scores.mean(), scores.std() * 2))"
   ]
  },
  {
   "cell_type": "markdown",
   "metadata": {},
   "source": [
    "### Hyper-parameter search"
   ]
  },
  {
   "cell_type": "code",
   "execution_count": 34,
   "metadata": {},
   "outputs": [],
   "source": [
    "from sklearn.model_selection import GridSearchCV"
   ]
  },
  {
   "cell_type": "code",
   "execution_count": 35,
   "metadata": {},
   "outputs": [],
   "source": [
    "clf = sklearn.pipeline.make_pipeline(\n",
    "    features,\n",
    "    sklearn.svm.SVC()\n",
    ")"
   ]
  },
  {
   "cell_type": "code",
   "execution_count": 36,
   "metadata": {},
   "outputs": [],
   "source": [
    "param_grid =  {\n",
    "    'svc__C': [1, 10, 100, 1000],\n",
    "    'svc__gamma': [0.001, 0.0001],\n",
    "    'svc__kernel': ['rbf']\n",
    "}"
   ]
  },
  {
   "cell_type": "code",
   "execution_count": 37,
   "metadata": {},
   "outputs": [
    {
     "data": {
      "text/plain": [
       "GridSearchCV(cv=ShuffleSplit(n_splits=5, random_state=0, test_size=0.15, train_size=None),\n",
       "             error_score=nan,\n",
       "             estimator=Pipeline(memory=None,\n",
       "                                steps=[('columntransformer',\n",
       "                                        ColumnTransformer(n_jobs=None,\n",
       "                                                          remainder='drop',\n",
       "                                                          sparse_threshold=0.3,\n",
       "                                                          transformer_weights=None,\n",
       "                                                          transformers=[('fft_pca',\n",
       "                                                                         Pipeline(memory=None,\n",
       "                                                                                  steps=[('fouriertransform',\n",
       "                                                                                          FourierTransform(windo...\n",
       "                                            decision_function_shape='ovr',\n",
       "                                            degree=3, gamma='scale',\n",
       "                                            kernel='rbf', max_iter=-1,\n",
       "                                            probability=False,\n",
       "                                            random_state=None, shrinking=True,\n",
       "                                            tol=0.001, verbose=False))],\n",
       "                                verbose=False),\n",
       "             iid='deprecated', n_jobs=None,\n",
       "             param_grid={'svc__C': [1, 10, 100, 1000],\n",
       "                         'svc__gamma': [0.001, 0.0001],\n",
       "                         'svc__kernel': ['rbf']},\n",
       "             pre_dispatch='2*n_jobs', refit=True, return_train_score=False,\n",
       "             scoring=None, verbose=0)"
      ]
     },
     "execution_count": 37,
     "metadata": {},
     "output_type": "execute_result"
    }
   ],
   "source": [
    "grid_search = GridSearchCV(clf, param_grid, cv=cv)\n",
    "\n",
    "grid_search.fit(X_train, y_train)"
   ]
  },
  {
   "cell_type": "code",
   "execution_count": 38,
   "metadata": {},
   "outputs": [
    {
     "data": {
      "text/plain": [
       "{'svc__C': 1000, 'svc__gamma': 0.001, 'svc__kernel': 'rbf'}"
      ]
     },
     "execution_count": 38,
     "metadata": {},
     "output_type": "execute_result"
    }
   ],
   "source": [
    "grid_search.best_params_"
   ]
  },
  {
   "cell_type": "code",
   "execution_count": 39,
   "metadata": {},
   "outputs": [
    {
     "data": {
      "text/plain": [
       "0.8865853658536584"
      ]
     },
     "execution_count": 39,
     "metadata": {},
     "output_type": "execute_result"
    }
   ],
   "source": [
    "grid_search.best_score_"
   ]
  },
  {
   "cell_type": "code",
   "execution_count": 40,
   "metadata": {},
   "outputs": [],
   "source": [
    "import pandas as pd"
   ]
  },
  {
   "cell_type": "code",
   "execution_count": 41,
   "metadata": {},
   "outputs": [],
   "source": [
    "cv_results = pd.DataFrame(grid_search.cv_results_)"
   ]
  },
  {
   "cell_type": "code",
   "execution_count": 42,
   "metadata": {},
   "outputs": [
    {
     "data": {
      "text/html": [
       "<div>\n",
       "<style scoped>\n",
       "    .dataframe tbody tr th:only-of-type {\n",
       "        vertical-align: middle;\n",
       "    }\n",
       "\n",
       "    .dataframe tbody tr th {\n",
       "        vertical-align: top;\n",
       "    }\n",
       "\n",
       "    .dataframe thead th {\n",
       "        text-align: right;\n",
       "    }\n",
       "</style>\n",
       "<table border=\"1\" class=\"dataframe\">\n",
       "  <thead>\n",
       "    <tr style=\"text-align: right;\">\n",
       "      <th></th>\n",
       "      <th>mean_fit_time</th>\n",
       "      <th>std_fit_time</th>\n",
       "      <th>mean_score_time</th>\n",
       "      <th>std_score_time</th>\n",
       "      <th>param_svc__C</th>\n",
       "      <th>param_svc__gamma</th>\n",
       "      <th>param_svc__kernel</th>\n",
       "      <th>params</th>\n",
       "      <th>split0_test_score</th>\n",
       "      <th>split1_test_score</th>\n",
       "      <th>split2_test_score</th>\n",
       "      <th>split3_test_score</th>\n",
       "      <th>split4_test_score</th>\n",
       "      <th>mean_test_score</th>\n",
       "      <th>std_test_score</th>\n",
       "      <th>rank_test_score</th>\n",
       "    </tr>\n",
       "  </thead>\n",
       "  <tbody>\n",
       "    <tr>\n",
       "      <th>0</th>\n",
       "      <td>0.701011</td>\n",
       "      <td>0.151968</td>\n",
       "      <td>0.073998</td>\n",
       "      <td>0.003569</td>\n",
       "      <td>1</td>\n",
       "      <td>0.001</td>\n",
       "      <td>rbf</td>\n",
       "      <td>{'svc__C': 1, 'svc__gamma': 0.001, 'svc__kerne...</td>\n",
       "      <td>0.865854</td>\n",
       "      <td>0.863821</td>\n",
       "      <td>0.843496</td>\n",
       "      <td>0.833333</td>\n",
       "      <td>0.869919</td>\n",
       "      <td>0.855285</td>\n",
       "      <td>0.014280</td>\n",
       "      <td>6</td>\n",
       "    </tr>\n",
       "    <tr>\n",
       "      <th>1</th>\n",
       "      <td>0.302042</td>\n",
       "      <td>0.054867</td>\n",
       "      <td>0.061683</td>\n",
       "      <td>0.004180</td>\n",
       "      <td>1</td>\n",
       "      <td>0.0001</td>\n",
       "      <td>rbf</td>\n",
       "      <td>{'svc__C': 1, 'svc__gamma': 0.0001, 'svc__kern...</td>\n",
       "      <td>0.837398</td>\n",
       "      <td>0.806911</td>\n",
       "      <td>0.798780</td>\n",
       "      <td>0.796748</td>\n",
       "      <td>0.855691</td>\n",
       "      <td>0.819106</td>\n",
       "      <td>0.023387</td>\n",
       "      <td>8</td>\n",
       "    </tr>\n",
       "    <tr>\n",
       "      <th>2</th>\n",
       "      <td>0.592650</td>\n",
       "      <td>0.082120</td>\n",
       "      <td>0.069373</td>\n",
       "      <td>0.006881</td>\n",
       "      <td>10</td>\n",
       "      <td>0.001</td>\n",
       "      <td>rbf</td>\n",
       "      <td>{'svc__C': 10, 'svc__gamma': 0.001, 'svc__kern...</td>\n",
       "      <td>0.873984</td>\n",
       "      <td>0.880081</td>\n",
       "      <td>0.853659</td>\n",
       "      <td>0.843496</td>\n",
       "      <td>0.890244</td>\n",
       "      <td>0.868293</td>\n",
       "      <td>0.017218</td>\n",
       "      <td>5</td>\n",
       "    </tr>\n",
       "    <tr>\n",
       "      <th>3</th>\n",
       "      <td>0.319794</td>\n",
       "      <td>0.020672</td>\n",
       "      <td>0.063717</td>\n",
       "      <td>0.013580</td>\n",
       "      <td>10</td>\n",
       "      <td>0.0001</td>\n",
       "      <td>rbf</td>\n",
       "      <td>{'svc__C': 10, 'svc__gamma': 0.0001, 'svc__ker...</td>\n",
       "      <td>0.863821</td>\n",
       "      <td>0.861789</td>\n",
       "      <td>0.819106</td>\n",
       "      <td>0.837398</td>\n",
       "      <td>0.884146</td>\n",
       "      <td>0.853252</td>\n",
       "      <td>0.022611</td>\n",
       "      <td>7</td>\n",
       "    </tr>\n",
       "    <tr>\n",
       "      <th>4</th>\n",
       "      <td>0.579148</td>\n",
       "      <td>0.088405</td>\n",
       "      <td>0.066086</td>\n",
       "      <td>0.009052</td>\n",
       "      <td>100</td>\n",
       "      <td>0.001</td>\n",
       "      <td>rbf</td>\n",
       "      <td>{'svc__C': 100, 'svc__gamma': 0.001, 'svc__ker...</td>\n",
       "      <td>0.878049</td>\n",
       "      <td>0.888211</td>\n",
       "      <td>0.861789</td>\n",
       "      <td>0.869919</td>\n",
       "      <td>0.898374</td>\n",
       "      <td>0.879268</td>\n",
       "      <td>0.012957</td>\n",
       "      <td>2</td>\n",
       "    </tr>\n",
       "    <tr>\n",
       "      <th>5</th>\n",
       "      <td>0.256807</td>\n",
       "      <td>0.018695</td>\n",
       "      <td>0.043514</td>\n",
       "      <td>0.000911</td>\n",
       "      <td>100</td>\n",
       "      <td>0.0001</td>\n",
       "      <td>rbf</td>\n",
       "      <td>{'svc__C': 100, 'svc__gamma': 0.0001, 'svc__ke...</td>\n",
       "      <td>0.878049</td>\n",
       "      <td>0.871951</td>\n",
       "      <td>0.855691</td>\n",
       "      <td>0.857724</td>\n",
       "      <td>0.898374</td>\n",
       "      <td>0.872358</td>\n",
       "      <td>0.015501</td>\n",
       "      <td>3</td>\n",
       "    </tr>\n",
       "    <tr>\n",
       "      <th>6</th>\n",
       "      <td>0.791239</td>\n",
       "      <td>0.287063</td>\n",
       "      <td>0.068978</td>\n",
       "      <td>0.021352</td>\n",
       "      <td>1000</td>\n",
       "      <td>0.001</td>\n",
       "      <td>rbf</td>\n",
       "      <td>{'svc__C': 1000, 'svc__gamma': 0.001, 'svc__ke...</td>\n",
       "      <td>0.876016</td>\n",
       "      <td>0.894309</td>\n",
       "      <td>0.876016</td>\n",
       "      <td>0.880081</td>\n",
       "      <td>0.906504</td>\n",
       "      <td>0.886585</td>\n",
       "      <td>0.012018</td>\n",
       "      <td>1</td>\n",
       "    </tr>\n",
       "    <tr>\n",
       "      <th>7</th>\n",
       "      <td>0.458299</td>\n",
       "      <td>0.157240</td>\n",
       "      <td>0.065212</td>\n",
       "      <td>0.026152</td>\n",
       "      <td>1000</td>\n",
       "      <td>0.0001</td>\n",
       "      <td>rbf</td>\n",
       "      <td>{'svc__C': 1000, 'svc__gamma': 0.0001, 'svc__k...</td>\n",
       "      <td>0.865854</td>\n",
       "      <td>0.876016</td>\n",
       "      <td>0.849593</td>\n",
       "      <td>0.861789</td>\n",
       "      <td>0.898374</td>\n",
       "      <td>0.870325</td>\n",
       "      <td>0.016382</td>\n",
       "      <td>4</td>\n",
       "    </tr>\n",
       "  </tbody>\n",
       "</table>\n",
       "</div>"
      ],
      "text/plain": [
       "   mean_fit_time  std_fit_time  mean_score_time  std_score_time param_svc__C  \\\n",
       "0       0.701011      0.151968         0.073998        0.003569            1   \n",
       "1       0.302042      0.054867         0.061683        0.004180            1   \n",
       "2       0.592650      0.082120         0.069373        0.006881           10   \n",
       "3       0.319794      0.020672         0.063717        0.013580           10   \n",
       "4       0.579148      0.088405         0.066086        0.009052          100   \n",
       "5       0.256807      0.018695         0.043514        0.000911          100   \n",
       "6       0.791239      0.287063         0.068978        0.021352         1000   \n",
       "7       0.458299      0.157240         0.065212        0.026152         1000   \n",
       "\n",
       "  param_svc__gamma param_svc__kernel  \\\n",
       "0            0.001               rbf   \n",
       "1           0.0001               rbf   \n",
       "2            0.001               rbf   \n",
       "3           0.0001               rbf   \n",
       "4            0.001               rbf   \n",
       "5           0.0001               rbf   \n",
       "6            0.001               rbf   \n",
       "7           0.0001               rbf   \n",
       "\n",
       "                                              params  split0_test_score  \\\n",
       "0  {'svc__C': 1, 'svc__gamma': 0.001, 'svc__kerne...           0.865854   \n",
       "1  {'svc__C': 1, 'svc__gamma': 0.0001, 'svc__kern...           0.837398   \n",
       "2  {'svc__C': 10, 'svc__gamma': 0.001, 'svc__kern...           0.873984   \n",
       "3  {'svc__C': 10, 'svc__gamma': 0.0001, 'svc__ker...           0.863821   \n",
       "4  {'svc__C': 100, 'svc__gamma': 0.001, 'svc__ker...           0.878049   \n",
       "5  {'svc__C': 100, 'svc__gamma': 0.0001, 'svc__ke...           0.878049   \n",
       "6  {'svc__C': 1000, 'svc__gamma': 0.001, 'svc__ke...           0.876016   \n",
       "7  {'svc__C': 1000, 'svc__gamma': 0.0001, 'svc__k...           0.865854   \n",
       "\n",
       "   split1_test_score  split2_test_score  split3_test_score  split4_test_score  \\\n",
       "0           0.863821           0.843496           0.833333           0.869919   \n",
       "1           0.806911           0.798780           0.796748           0.855691   \n",
       "2           0.880081           0.853659           0.843496           0.890244   \n",
       "3           0.861789           0.819106           0.837398           0.884146   \n",
       "4           0.888211           0.861789           0.869919           0.898374   \n",
       "5           0.871951           0.855691           0.857724           0.898374   \n",
       "6           0.894309           0.876016           0.880081           0.906504   \n",
       "7           0.876016           0.849593           0.861789           0.898374   \n",
       "\n",
       "   mean_test_score  std_test_score  rank_test_score  \n",
       "0         0.855285        0.014280                6  \n",
       "1         0.819106        0.023387                8  \n",
       "2         0.868293        0.017218                5  \n",
       "3         0.853252        0.022611                7  \n",
       "4         0.879268        0.012957                2  \n",
       "5         0.872358        0.015501                3  \n",
       "6         0.886585        0.012018                1  \n",
       "7         0.870325        0.016382                4  "
      ]
     },
     "execution_count": 42,
     "metadata": {},
     "output_type": "execute_result"
    }
   ],
   "source": [
    "cv_results"
   ]
  },
  {
   "cell_type": "markdown",
   "metadata": {},
   "source": [
    "### Best results"
   ]
  },
  {
   "cell_type": "code",
   "execution_count": 43,
   "metadata": {
    "pycharm": {
     "is_executing": false
    }
   },
   "outputs": [
    {
     "name": "stdout",
     "output_type": "stream",
     "text": [
      "              precision    recall  f1-score   support\n",
      "\n",
      "         dws       1.00      1.00      1.00       281\n",
      "         jog       1.00      1.00      1.00       308\n",
      "         sit       0.87      0.95      0.91       810\n",
      "         std       0.94      0.85      0.89       732\n",
      "         ups       1.00      1.00      1.00       345\n",
      "         wlk       1.00      1.00      1.00       800\n",
      "\n",
      "    accuracy                           0.95      3276\n",
      "   macro avg       0.97      0.97      0.97      3276\n",
      "weighted avg       0.95      0.95      0.95      3276\n",
      "\n"
     ]
    }
   ],
   "source": [
    "print(classification_report(y_train, grid_search.predict(X_train), target_names=label_encoder.classes_))"
   ]
  },
  {
   "cell_type": "code",
   "execution_count": 44,
   "metadata": {},
   "outputs": [
    {
     "data": {
      "text/plain": [
       "<sklearn.metrics._plot.confusion_matrix.ConfusionMatrixDisplay at 0x11be44c10>"
      ]
     },
     "execution_count": 44,
     "metadata": {},
     "output_type": "execute_result"
    },
    {
     "data": {
      "image/png": "[encoded data removed]",
      "text/plain": [
       "<Figure size 432x288 with 2 Axes>"
      ]
     },
     "metadata": {
      "needs_background": "light"
     },
     "output_type": "display_data"
    }
   ],
   "source": [
    "plot_confusion_matrix(grid_search, X_train, y_train,\n",
    "                      display_labels=label_encoder.classes_,\n",
    "                      cmap=plt.cm.Blues,\n",
    "                      normalize=\"true\")"
   ]
  },
  {
   "cell_type": "code",
   "execution_count": 45,
   "metadata": {
    "pycharm": {
     "is_executing": false
    }
   },
   "outputs": [
    {
     "name": "stdout",
     "output_type": "stream",
     "text": [
      "              precision    recall  f1-score   support\n",
      "\n",
      "         dws       0.92      0.83      0.87        78\n",
      "         jog       0.90      1.00      0.95        76\n",
      "         sit       0.82      0.90      0.86       194\n",
      "         std       0.87      0.77      0.81       168\n",
      "         ups       0.87      0.90      0.89        91\n",
      "         wlk       0.97      0.95      0.96       212\n",
      "\n",
      "    accuracy                           0.89       819\n",
      "   macro avg       0.89      0.89      0.89       819\n",
      "weighted avg       0.89      0.89      0.89       819\n",
      "\n"
     ]
    }
   ],
   "source": [
    "print(classification_report(y_test, grid_search.predict(X_test), target_names=label_encoder.classes_))"
   ]
  },
  {
   "cell_type": "code",
   "execution_count": 46,
   "metadata": {},
   "outputs": [
    {
     "data": {
      "text/plain": [
       "<sklearn.metrics._plot.confusion_matrix.ConfusionMatrixDisplay at 0x11e32e2e0>"
      ]
     },
     "execution_count": 46,
     "metadata": {},
     "output_type": "execute_result"
    },
    {
     "data": {
      "image/png": "[encoded data removed]",
      "text/plain": [
       "<Figure size 432x288 with 2 Axes>"
      ]
     },
     "metadata": {
      "needs_background": "light"
     },
     "output_type": "display_data"
    }
   ],
   "source": [
    "plot_confusion_matrix(grid_search, X_test, y_test,\n",
    "                      display_labels=label_encoder.classes_,\n",
    "                      cmap=plt.cm.Blues,\n",
    "                      normalize=\"true\")"
   ]
  },
  {
   "cell_type": "markdown",
   "metadata": {},
   "source": [
    "### Test"
   ]
  },
  {
   "cell_type": "code",
   "execution_count": 47,
   "metadata": {},
   "outputs": [],
   "source": [
    "from utils import classify_time_series\n",
    "from dataset import HARDataset"
   ]
  },
  {
   "cell_type": "code",
   "execution_count": 48,
   "metadata": {},
   "outputs": [],
   "source": [
    "dataset_test = HARDataset('motionsense-dataset/test', metadata_file='motionsense-dataset/data_subjects_info.csv')"
   ]
  },
  {
   "cell_type": "code",
   "execution_count": 51,
   "metadata": {},
   "outputs": [],
   "source": [
    "y_pred = [classify_time_series(np.linalg.norm(x[:, -3:], axis=1), grid_search, 256, meta)\n",
    "          for x, _, meta in dataset_test]\n",
    "y_true = label_encoder.transform([cls for _, cls, _ in dataset_test])"
   ]
  },
  {
   "cell_type": "code",
   "execution_count": 52,
   "metadata": {
    "pycharm": {
     "is_executing": false
    }
   },
   "outputs": [
    {
     "name": "stdout",
     "output_type": "stream",
     "text": [
      "              precision    recall  f1-score   support\n",
      "\n",
      "         dws       0.55      0.80      0.65        15\n",
      "         jog       0.77      1.00      0.87        10\n",
      "         sit       0.75      0.30      0.43        10\n",
      "         std       0.56      0.90      0.69        10\n",
      "         ups       0.88      0.47      0.61        15\n",
      "         wlk       0.92      0.73      0.81        15\n",
      "\n",
      "    accuracy                           0.69        75\n",
      "   macro avg       0.74      0.70      0.68        75\n",
      "weighted avg       0.74      0.69      0.68        75\n",
      "\n"
     ]
    }
   ],
   "source": [
    "print(classification_report(y_true, y_pred, target_names=label_encoder.classes_))"
   ]
  }
 ],
 "metadata": {
  "kernelspec": {
   "display_name": "Python 3",
   "language": "python",
   "name": "python3"
  },
  "language_info": {
   "codemirror_mode": {
    "name": "ipython",
    "version": 3
   },
   "file_extension": ".py",
   "mimetype": "text/x-python",
   "name": "python",
   "nbconvert_exporter": "python",
   "pygments_lexer": "ipython3",
   "version": "3.8.1"
  },
  "pycharm": {
   "stem_cell": {
    "cell_type": "raw",
    "metadata": {
     "collapsed": false
    },
    "source": []
   }
  }
 },
 "nbformat": 4,
 "nbformat_minor": 4
}
